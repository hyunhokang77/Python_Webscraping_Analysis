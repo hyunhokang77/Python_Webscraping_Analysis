{
 "cells": [
  {
   "cell_type": "code",
   "execution_count": 6,
   "id": "9eea7f7e",
   "metadata": {},
   "outputs": [
    {
     "name": "stdout",
     "output_type": "stream",
     "text": [
      "https://news.daum.net/economy\n",
      "<class 'requests.models.Response'>\n",
      "200\n",
      "<class 'bs4.element.ResultSet'> 0\n"
     ]
    }
   ],
   "source": [
    "import requests\n",
    "from bs4 import BeautifulSoup\n",
    "\n",
    "def scrape_daum_economy():\n",
    "    url = 'https://news.daum.net/economy'\n",
    "    print(url)\n",
    "\n",
    "    headers = {\n",
    "        \"User-Agent\": \"Mozilla/5.0 (Windows NT 10.0; Win64; x64) AppleWebKit/537.36 (KHTML, like Gecko) Chrome/120.0.0.0 Safari/537.36\"\n",
    "    }\n",
    "\n",
    "    response = requests.get(url, headers=headers)\n",
    "    response.encoding = 'utf-8'\n",
    "    print(type(response))\n",
    "    print(response.status_code)\n",
    "\n",
    "    soup = BeautifulSoup(response.text, 'html.parser')\n",
    "\n",
    "    # HTML 구조 확인용\n",
    "    li_tags = soup.select('ul.list_news2 li')\n",
    "    print(type(li_tags), len(li_tags))\n",
    "\n",
    "    for li_tag in li_tags[:9]:\n",
    "        a_tag = li_tag.find('a')\n",
    "        link = a_tag['href']\n",
    "        title_tag = li_tag.select_one('strong.tit_thumb, strong.tit_txt')\n",
    "        title = title_tag.get_text(strip=True) if title_tag else None\n",
    "        print(link)\n",
    "        print(title)\n",
    "\n",
    "if __name__ == \"__main__\":\n",
    "    scrape_daum_economy()\n"
   ]
  },
  {
   "cell_type": "code",
   "execution_count": 8,
   "id": "9a79a842",
   "metadata": {},
   "outputs": [
    {
     "name": "stdout",
     "output_type": "stream",
     "text": [
      "======> https://news.daum.net/economy 경제 뉴스 <======\n",
      "기사 제목을 찾을 수 없습니다. HTML 구조가 변경되었을 수 있습니다.\n"
     ]
    }
   ],
   "source": [
    "import requests\n",
    "from bs4 import BeautifulSoup\n",
    "\n",
    "# 섹션별 영문 이름 매핑\n",
    "section_dict = {\n",
    "    '기후/환경': 'climate',\n",
    "    '사회': 'society',\n",
    "    '경제': 'economy',\n",
    "    '정치': 'politics',\n",
    "    '국제': 'world',\n",
    "    '문화': 'culture',\n",
    "    '생활': 'life',\n",
    "    'IT/과학': 'tech',\n",
    "    '인물': 'people'\n",
    "}\n",
    "\n",
    "def print_news(section_name):\n",
    "    # 섹션명에 해당하는 영문 키워드 찾기\n",
    "    section_english = section_dict.get(section_name)\n",
    "    \n",
    "    if section_english:\n",
    "        # URL 생성\n",
    "        url = f'https://news.daum.net/{section_english}'\n",
    "        print(f'======> {url} {section_name} 뉴스 <======')\n",
    "\n",
    "        # 웹 페이지 요청\n",
    "        response = requests.get(url)\n",
    "        \n",
    "        # 요청이 성공적인지 확인 (status code 200이면 성공)\n",
    "        if response.status_code == 200:\n",
    "            # BeautifulSoup 객체 생성\n",
    "            soup = BeautifulSoup(response.text, 'html.parser')\n",
    "            \n",
    "            # 뉴스 기사 제목을 찾기 (h3 태그, class=\"tit_view\")\n",
    "            articles = soup.find_all('h3', class_='tit_view')\n",
    "            \n",
    "            if not articles:\n",
    "                print(\"기사 제목을 찾을 수 없습니다. HTML 구조가 변경되었을 수 있습니다.\")\n",
    "            else:\n",
    "                # 뉴스 제목과 링크 출력\n",
    "                for article in articles:\n",
    "                    title = article.get_text(strip=True)\n",
    "                    print(f'\"{title}\"')\n",
    "                    print()\n",
    "\n",
    "        else:\n",
    "            print(f'웹 페이지를 불러오는 데 실패했습니다. 상태 코드: {response.status_code}')\n",
    "    else:\n",
    "        print('해당 섹션명이 존재하지 않습니다.')\n",
    "\n",
    "# 함수 호출 예시\n",
    "print_news('경제')  # 경제 섹션의 뉴스 기사 출력\n"
   ]
  }
 ],
 "metadata": {
  "kernelspec": {
   "display_name": "base",
   "language": "python",
   "name": "python3"
  },
  "language_info": {
   "codemirror_mode": {
    "name": "ipython",
    "version": 3
   },
   "file_extension": ".py",
   "mimetype": "text/x-python",
   "name": "python",
   "nbconvert_exporter": "python",
   "pygments_lexer": "ipython3",
   "version": "3.12.7"
  }
 },
 "nbformat": 4,
 "nbformat_minor": 5
}
